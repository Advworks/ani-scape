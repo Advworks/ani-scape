{
  "nbformat": 4,
  "nbformat_minor": 0,
  "metadata": {
    "colab": {
      "provenance": [],
      "authorship_tag": "ABX9TyOyNe241oi7jaW2haPJ1O3g",
      "include_colab_link": true
    },
    "kernelspec": {
      "name": "python3",
      "display_name": "Python 3"
    },
    "language_info": {
      "name": "python"
    }
  },
  "cells": [
    {
      "cell_type": "markdown",
      "metadata": {
        "id": "view-in-github",
        "colab_type": "text"
      },
      "source": [
        "<a href=\"https://colab.research.google.com/github/Advworks/ani-scape/blob/main/notebooks/01_fetch_top_anime.ipynb\" target=\"_parent\"><img src=\"https://colab.research.google.com/assets/colab-badge.svg\" alt=\"Open In Colab\"/></a>"
      ]
    },
    {
      "cell_type": "markdown",
      "source": [
        "Fetching data for Anime Metrics and saving as csv."
      ],
      "metadata": {
        "id": "ZVhlXIgQUIIQ"
      }
    },
    {
      "cell_type": "code",
      "execution_count": 1,
      "metadata": {
        "colab": {
          "base_uri": "https://localhost:8080/"
        },
        "id": "C3HTApAcSisX",
        "outputId": "97bcea06-14a8-41e5-938d-79136edf2680"
      },
      "outputs": [
        {
          "output_type": "stream",
          "name": "stdout",
          "text": [
            "✅ Top anime data saved to data/raw/top_anime.csv\n"
          ]
        }
      ],
      "source": [
        "import requests\n",
        "import pandas as pd\n",
        "\n",
        "def fetch_top_anime(page=1):\n",
        "    url = f\"https://api.jikan.moe/v4/top/anime?page={page}\"\n",
        "    response = requests.get(url)\n",
        "\n",
        "    if response.status_code == 200:\n",
        "        data = response.json()\n",
        "        anime_list = data['data']\n",
        "        return anime_list\n",
        "    else:\n",
        "        print(f\"Error: {response.status_code}\")\n",
        "        return []\n",
        "\n",
        "def process_anime_data(anime_list):\n",
        "    processed = []\n",
        "    for anime in anime_list:\n",
        "        processed.append({\n",
        "            \"title\": anime[\"title\"],\n",
        "            \"score\": anime[\"score\"],\n",
        "            \"rank\": anime[\"rank\"],\n",
        "            \"popularity\": anime[\"popularity\"],\n",
        "            \"episodes\": anime[\"episodes\"],\n",
        "            \"type\": anime[\"type\"],\n",
        "            \"aired_from\": anime[\"aired\"][\"from\"],\n",
        "            \"status\": anime[\"status\"],\n",
        "            \"genres\": \", \".join([genre[\"name\"] for genre in anime[\"genres\"]]),\n",
        "        })\n",
        "    return pd.DataFrame(processed)\n",
        "\n",
        "if __name__ == \"__main__\":\n",
        "    all_anime = []\n",
        "    for page in range(1, 6):  # You can increase the range to get more data\n",
        "        anime_batch = fetch_top_anime(page)\n",
        "        all_anime.extend(anime_batch)\n",
        "\n",
        "    df = process_anime_data(all_anime)\n",
        "    df.to_csv(\"data/raw/top_anime.csv\", index=False)\n",
        "    print(\"✅ Top anime data saved to data/raw/top_anime.csv\")\n"
      ]
    }
  ]
}